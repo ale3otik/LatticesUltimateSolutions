{
 "cells": [
  {
   "cell_type": "markdown",
   "metadata": {},
   "source": [
    "# Зотов Алексей"
   ]
  },
  {
   "cell_type": "code",
   "execution_count": 16,
   "metadata": {},
   "outputs": [],
   "source": [
    "import pandas as pd\n",
    "import numpy as np\n",
    "from tqdm import tqdm\n",
    "\n",
    "from sklearn.metrics import accuracy_score\n",
    "from sklearn.metrics import precision_score\n",
    "from sklearn.metrics import recall_score"
   ]
  },
  {
   "cell_type": "code",
   "execution_count": 17,
   "metadata": {},
   "outputs": [
    {
     "name": "stdout",
     "output_type": "stream",
     "text": [
      "README.md      solution.ipynb\r\n"
     ]
    }
   ],
   "source": [
    "!ls"
   ]
  },
  {
   "cell_type": "markdown",
   "metadata": {},
   "source": [
    "Используем набор данных партий игр в крестики нолики (tic-tac-toe). Целью является показать победил ли игрок ходивший первым."
   ]
  },
  {
   "cell_type": "code",
   "execution_count": 19,
   "metadata": {},
   "outputs": [
    {
     "data": {
      "text/html": [
       "<div>\n",
       "<style scoped>\n",
       "    .dataframe tbody tr th:only-of-type {\n",
       "        vertical-align: middle;\n",
       "    }\n",
       "\n",
       "    .dataframe tbody tr th {\n",
       "        vertical-align: top;\n",
       "    }\n",
       "\n",
       "    .dataframe thead th {\n",
       "        text-align: right;\n",
       "    }\n",
       "</style>\n",
       "<table border=\"1\" class=\"dataframe\">\n",
       "  <thead>\n",
       "    <tr style=\"text-align: right;\">\n",
       "      <th></th>\n",
       "      <th>0</th>\n",
       "      <th>1</th>\n",
       "      <th>2</th>\n",
       "      <th>3</th>\n",
       "      <th>4</th>\n",
       "      <th>5</th>\n",
       "      <th>6</th>\n",
       "      <th>7</th>\n",
       "      <th>8</th>\n",
       "      <th>target</th>\n",
       "    </tr>\n",
       "  </thead>\n",
       "  <tbody>\n",
       "    <tr>\n",
       "      <th>0</th>\n",
       "      <td>x</td>\n",
       "      <td>x</td>\n",
       "      <td>x</td>\n",
       "      <td>x</td>\n",
       "      <td>o</td>\n",
       "      <td>o</td>\n",
       "      <td>x</td>\n",
       "      <td>o</td>\n",
       "      <td>o</td>\n",
       "      <td>positive</td>\n",
       "    </tr>\n",
       "    <tr>\n",
       "      <th>1</th>\n",
       "      <td>x</td>\n",
       "      <td>x</td>\n",
       "      <td>x</td>\n",
       "      <td>x</td>\n",
       "      <td>o</td>\n",
       "      <td>o</td>\n",
       "      <td>o</td>\n",
       "      <td>x</td>\n",
       "      <td>o</td>\n",
       "      <td>positive</td>\n",
       "    </tr>\n",
       "    <tr>\n",
       "      <th>2</th>\n",
       "      <td>x</td>\n",
       "      <td>x</td>\n",
       "      <td>x</td>\n",
       "      <td>x</td>\n",
       "      <td>o</td>\n",
       "      <td>o</td>\n",
       "      <td>o</td>\n",
       "      <td>o</td>\n",
       "      <td>x</td>\n",
       "      <td>positive</td>\n",
       "    </tr>\n",
       "    <tr>\n",
       "      <th>3</th>\n",
       "      <td>x</td>\n",
       "      <td>x</td>\n",
       "      <td>x</td>\n",
       "      <td>x</td>\n",
       "      <td>o</td>\n",
       "      <td>o</td>\n",
       "      <td>o</td>\n",
       "      <td>b</td>\n",
       "      <td>b</td>\n",
       "      <td>positive</td>\n",
       "    </tr>\n",
       "    <tr>\n",
       "      <th>4</th>\n",
       "      <td>x</td>\n",
       "      <td>x</td>\n",
       "      <td>x</td>\n",
       "      <td>x</td>\n",
       "      <td>o</td>\n",
       "      <td>o</td>\n",
       "      <td>b</td>\n",
       "      <td>o</td>\n",
       "      <td>b</td>\n",
       "      <td>positive</td>\n",
       "    </tr>\n",
       "  </tbody>\n",
       "</table>\n",
       "</div>"
      ],
      "text/plain": [
       "   0  1  2  3  4  5  6  7  8    target\n",
       "0  x  x  x  x  o  o  x  o  o  positive\n",
       "1  x  x  x  x  o  o  o  x  o  positive\n",
       "2  x  x  x  x  o  o  o  o  x  positive\n",
       "3  x  x  x  x  o  o  o  b  b  positive\n",
       "4  x  x  x  x  o  o  b  o  b  positive"
      ]
     },
     "execution_count": 19,
     "metadata": {},
     "output_type": "execute_result"
    }
   ],
   "source": [
    "df = pd.read_csv(\"data/tic-tac-toe.csv\", sep=',', names = list(range(9)) + ['target'])\n",
    "df.head()"
   ]
  },
  {
   "cell_type": "markdown",
   "metadata": {},
   "source": [
    "Проведем бинаризацию признаков."
   ]
  },
  {
   "cell_type": "code",
   "execution_count": 20,
   "metadata": {},
   "outputs": [
    {
     "data": {
      "text/html": [
       "<div>\n",
       "<style scoped>\n",
       "    .dataframe tbody tr th:only-of-type {\n",
       "        vertical-align: middle;\n",
       "    }\n",
       "\n",
       "    .dataframe tbody tr th {\n",
       "        vertical-align: top;\n",
       "    }\n",
       "\n",
       "    .dataframe thead th {\n",
       "        text-align: right;\n",
       "    }\n",
       "</style>\n",
       "<table border=\"1\" class=\"dataframe\">\n",
       "  <thead>\n",
       "    <tr style=\"text-align: right;\">\n",
       "      <th></th>\n",
       "      <th>0_b</th>\n",
       "      <th>0_o</th>\n",
       "      <th>0_x</th>\n",
       "      <th>1_b</th>\n",
       "      <th>1_o</th>\n",
       "      <th>1_x</th>\n",
       "      <th>2_b</th>\n",
       "      <th>2_o</th>\n",
       "      <th>2_x</th>\n",
       "      <th>3_b</th>\n",
       "      <th>...</th>\n",
       "      <th>6_b</th>\n",
       "      <th>6_o</th>\n",
       "      <th>6_x</th>\n",
       "      <th>7_b</th>\n",
       "      <th>7_o</th>\n",
       "      <th>7_x</th>\n",
       "      <th>8_b</th>\n",
       "      <th>8_o</th>\n",
       "      <th>8_x</th>\n",
       "      <th>target</th>\n",
       "    </tr>\n",
       "  </thead>\n",
       "  <tbody>\n",
       "    <tr>\n",
       "      <th>0</th>\n",
       "      <td>0</td>\n",
       "      <td>0</td>\n",
       "      <td>1</td>\n",
       "      <td>0</td>\n",
       "      <td>0</td>\n",
       "      <td>1</td>\n",
       "      <td>0</td>\n",
       "      <td>0</td>\n",
       "      <td>1</td>\n",
       "      <td>0</td>\n",
       "      <td>...</td>\n",
       "      <td>0</td>\n",
       "      <td>0</td>\n",
       "      <td>1</td>\n",
       "      <td>0</td>\n",
       "      <td>1</td>\n",
       "      <td>0</td>\n",
       "      <td>0</td>\n",
       "      <td>1</td>\n",
       "      <td>0</td>\n",
       "      <td>1</td>\n",
       "    </tr>\n",
       "    <tr>\n",
       "      <th>1</th>\n",
       "      <td>0</td>\n",
       "      <td>0</td>\n",
       "      <td>1</td>\n",
       "      <td>0</td>\n",
       "      <td>0</td>\n",
       "      <td>1</td>\n",
       "      <td>0</td>\n",
       "      <td>0</td>\n",
       "      <td>1</td>\n",
       "      <td>0</td>\n",
       "      <td>...</td>\n",
       "      <td>0</td>\n",
       "      <td>1</td>\n",
       "      <td>0</td>\n",
       "      <td>0</td>\n",
       "      <td>0</td>\n",
       "      <td>1</td>\n",
       "      <td>0</td>\n",
       "      <td>1</td>\n",
       "      <td>0</td>\n",
       "      <td>1</td>\n",
       "    </tr>\n",
       "    <tr>\n",
       "      <th>2</th>\n",
       "      <td>0</td>\n",
       "      <td>0</td>\n",
       "      <td>1</td>\n",
       "      <td>0</td>\n",
       "      <td>0</td>\n",
       "      <td>1</td>\n",
       "      <td>0</td>\n",
       "      <td>0</td>\n",
       "      <td>1</td>\n",
       "      <td>0</td>\n",
       "      <td>...</td>\n",
       "      <td>0</td>\n",
       "      <td>1</td>\n",
       "      <td>0</td>\n",
       "      <td>0</td>\n",
       "      <td>1</td>\n",
       "      <td>0</td>\n",
       "      <td>0</td>\n",
       "      <td>0</td>\n",
       "      <td>1</td>\n",
       "      <td>1</td>\n",
       "    </tr>\n",
       "    <tr>\n",
       "      <th>3</th>\n",
       "      <td>0</td>\n",
       "      <td>0</td>\n",
       "      <td>1</td>\n",
       "      <td>0</td>\n",
       "      <td>0</td>\n",
       "      <td>1</td>\n",
       "      <td>0</td>\n",
       "      <td>0</td>\n",
       "      <td>1</td>\n",
       "      <td>0</td>\n",
       "      <td>...</td>\n",
       "      <td>0</td>\n",
       "      <td>1</td>\n",
       "      <td>0</td>\n",
       "      <td>1</td>\n",
       "      <td>0</td>\n",
       "      <td>0</td>\n",
       "      <td>1</td>\n",
       "      <td>0</td>\n",
       "      <td>0</td>\n",
       "      <td>1</td>\n",
       "    </tr>\n",
       "    <tr>\n",
       "      <th>4</th>\n",
       "      <td>0</td>\n",
       "      <td>0</td>\n",
       "      <td>1</td>\n",
       "      <td>0</td>\n",
       "      <td>0</td>\n",
       "      <td>1</td>\n",
       "      <td>0</td>\n",
       "      <td>0</td>\n",
       "      <td>1</td>\n",
       "      <td>0</td>\n",
       "      <td>...</td>\n",
       "      <td>1</td>\n",
       "      <td>0</td>\n",
       "      <td>0</td>\n",
       "      <td>0</td>\n",
       "      <td>1</td>\n",
       "      <td>0</td>\n",
       "      <td>1</td>\n",
       "      <td>0</td>\n",
       "      <td>0</td>\n",
       "      <td>1</td>\n",
       "    </tr>\n",
       "  </tbody>\n",
       "</table>\n",
       "<p>5 rows × 28 columns</p>\n",
       "</div>"
      ],
      "text/plain": [
       "   0_b  0_o  0_x  1_b  1_o  1_x  2_b  2_o  2_x  3_b   ...    6_b  6_o  6_x  \\\n",
       "0    0    0    1    0    0    1    0    0    1    0   ...      0    0    1   \n",
       "1    0    0    1    0    0    1    0    0    1    0   ...      0    1    0   \n",
       "2    0    0    1    0    0    1    0    0    1    0   ...      0    1    0   \n",
       "3    0    0    1    0    0    1    0    0    1    0   ...      0    1    0   \n",
       "4    0    0    1    0    0    1    0    0    1    0   ...      1    0    0   \n",
       "\n",
       "   7_b  7_o  7_x  8_b  8_o  8_x  target  \n",
       "0    0    1    0    0    1    0       1  \n",
       "1    0    0    1    0    1    0       1  \n",
       "2    0    1    0    0    0    1       1  \n",
       "3    1    0    0    1    0    0       1  \n",
       "4    0    1    0    1    0    0       1  \n",
       "\n",
       "[5 rows x 28 columns]"
      ]
     },
     "execution_count": 20,
     "metadata": {},
     "output_type": "execute_result"
    }
   ],
   "source": [
    "import copy\n",
    "def dummy_encode_categorical_columns(data):\n",
    "    result_data = copy.deepcopy(data)\n",
    "    for column in data.columns.values:\n",
    "        result_data = pd.concat(\n",
    "            [result_data, pd.get_dummies(result_data[column],\n",
    "                                         prefix = column, prefix_sep = '_')], axis = 1)\n",
    "        del result_data[column]\n",
    "    return result_data\n",
    "df = dummy_encode_categorical_columns(df)\n",
    "df['target'] = df['target_positive']\n",
    "df = df.drop(['target_positive', 'target_negative'], axis=1)\n",
    "df.head()"
   ]
  },
  {
   "cell_type": "markdown",
   "metadata": {},
   "source": [
    "Разделим исходные данные на обучающую и контрольную подвыборки в отношении 7:3."
   ]
  },
  {
   "cell_type": "code",
   "execution_count": 21,
   "metadata": {},
   "outputs": [
    {
     "data": {
      "text/plain": [
       "(670, 288)"
      ]
     },
     "execution_count": 21,
     "metadata": {},
     "output_type": "execute_result"
    }
   ],
   "source": [
    "from sklearn.model_selection import train_test_split\n",
    "df_train, df_test = train_test_split(df, test_size=0.3)\n",
    "len(df_train), len(df_test)"
   ]
  },
  {
   "cell_type": "code",
   "execution_count": 22,
   "metadata": {},
   "outputs": [],
   "source": [
    "X_train, y_train = df_train.drop(['target'], axis=1), df_train['target']\n",
    "X_test, y_test = df_test.drop(['target'], axis=1), df_test['target']"
   ]
  },
  {
   "cell_type": "markdown",
   "metadata": {},
   "source": [
    "В предложенной реализации удобно разделить объекты из негативного и позитивного контекстовю"
   ]
  },
  {
   "cell_type": "code",
   "execution_count": 23,
   "metadata": {},
   "outputs": [],
   "source": [
    "X_train_pos = np.array(X_train[y_train == 1])\n",
    "X_train_neg = np.array(X_train[y_train == 0])"
   ]
  },
  {
   "cell_type": "markdown",
   "metadata": {},
   "source": [
    "Для настройки уровня влияния поддержки и достоверности введем вспомогательный коэффициент."
   ]
  },
  {
   "cell_type": "code",
   "execution_count": 50,
   "metadata": {},
   "outputs": [],
   "source": [
    "RECALL_RATIO = 0.35"
   ]
  },
  {
   "cell_type": "markdown",
   "metadata": {},
   "source": [
    "Реализуем предложенный простой вариант алгоритма."
   ]
  },
  {
   "cell_type": "code",
   "execution_count": 51,
   "metadata": {},
   "outputs": [],
   "source": [
    "def print_apc(metrics) :\n",
    "    print('accuracy {}'.format(metrics[0]))\n",
    "    print('precision {}'.format(metrics[1]))\n",
    "    print('recall {}'.format(metrics[2]))\n",
    "    \n",
    "def get_impact_baseline(obj, X):\n",
    "    impact = 0\n",
    "    for x in X:\n",
    "        common_ids = (obj == x)\n",
    "        closure_power = np.sum(np.all(obj[common_ids] == X[:, common_ids], axis=1)) - 1\n",
    "        assert(closure_power >= 0)\n",
    "        impact += closure_power \n",
    "    return impact\n",
    "\n",
    "def apply_baseline():\n",
    "    y_pred = np.zeros(len(X_test), dtype=np.int32)\n",
    "    for i, test_obj in tqdm(enumerate(np.array(X_test)), position=0):\n",
    "        positive_impact = get_impact_baseline(test_obj, X_train_pos)\n",
    "        negative_impact = get_impact_baseline(test_obj, X_train_neg)\n",
    "        y_pred[i] = (positive_impact * RECALL_RATIO > negative_impact)\n",
    "    accuracy = accuracy_score(y_test, y_pred)\n",
    "    precision = precision_score(y_test, y_pred)\n",
    "    recall = recall_score(y_test, y_pred)\n",
    "    return accuracy, precision, recall"
   ]
  },
  {
   "cell_type": "code",
   "execution_count": 52,
   "metadata": {},
   "outputs": [
    {
     "name": "stderr",
     "output_type": "stream",
     "text": [
      "288it [00:03, 83.02it/s]"
     ]
    },
    {
     "name": "stdout",
     "output_type": "stream",
     "text": [
      "accuracy 0.7326388888888888\n",
      "precision 0.7389380530973452\n",
      "recall 0.9027027027027027\n"
     ]
    },
    {
     "name": "stderr",
     "output_type": "stream",
     "text": [
      "\n"
     ]
    }
   ],
   "source": [
    "print_apc(apply_baseline())"
   ]
  },
  {
   "cell_type": "markdown",
   "metadata": {},
   "source": [
    "Усовершенствуем алгоритм.\n",
    "\n",
    "Нормализуем величину поддержки/влияния на размер контекста. \n",
    "\n",
    "\n",
    "Положим вес(weight) каждого замыкания пропорционально размеру пересечения. \n",
    "\n",
    "Введем параметр weight_power.\n",
    "\n",
    "Итоговый вес будет вычисляться как степенная функция от веса(weight) с показателем weight_power. "
   ]
  },
  {
   "cell_type": "code",
   "execution_count": 55,
   "metadata": {},
   "outputs": [],
   "source": [
    "RECALL_RATIO = 0.8\n",
    "\n",
    "def get_impact(obj, X, weight_power):\n",
    "    impact = 0\n",
    "    for x in X:\n",
    "        common_ids = (obj == x)\n",
    "        weight = np.sum(common_ids) / len(common_ids)\n",
    "        closure_power = np.sum(np.all(obj[common_ids] == X[:, common_ids], axis=1)) - 1\n",
    "        assert(closure_power >= 0)\n",
    "        impact += closure_power * (weight**weight_power)\n",
    "    impact /= len(X)\n",
    "    return impact\n",
    "    \n",
    "def apply(weight_power):\n",
    "    y_pred = np.zeros(len(X_test), dtype=np.int32)\n",
    "    for i, test_obj in tqdm(enumerate(np.array(X_test)), position=0):\n",
    "        positive_impact = get_impact(test_obj, X_train_pos, weight_power)\n",
    "        negative_impact = get_impact(test_obj, X_train_neg, weight_power)\n",
    "        y_pred[i] = (positive_impact * RECALL_RATIO > negative_impact)\n",
    "    accuracy = accuracy_score(y_test, y_pred)\n",
    "    precision = precision_score(y_test, y_pred)\n",
    "    recall = recall_score(y_test, y_pred)\n",
    "    return accuracy, precision, recall"
   ]
  },
  {
   "cell_type": "code",
   "execution_count": 56,
   "metadata": {},
   "outputs": [
    {
     "name": "stderr",
     "output_type": "stream",
     "text": [
      "288it [00:05, 50.62it/s]"
     ]
    },
    {
     "name": "stdout",
     "output_type": "stream",
     "text": [
      "acc : 0.8333333333333334, precision : 0.8071748878923767, recall : 0.972972972972973\n"
     ]
    },
    {
     "name": "stderr",
     "output_type": "stream",
     "text": [
      "\n"
     ]
    }
   ],
   "source": [
    "accuracy, precision, recall = apply(5)\n",
    "print(\"acc : {}, precision : {}, recall : {}\".format(accuracy, precision, recall))"
   ]
  },
  {
   "cell_type": "markdown",
   "metadata": {},
   "source": [
    "Результат заметно лучше по всем метрикам.\n",
    "\n",
    "Подберем оптимальный параметр weight_power."
   ]
  },
  {
   "cell_type": "code",
   "execution_count": 57,
   "metadata": {},
   "outputs": [
    {
     "name": "stderr",
     "output_type": "stream",
     "text": [
      "288it [00:05, 48.93it/s]\n",
      "288it [00:05, 50.57it/s]\n",
      "288it [00:05, 53.08it/s]\n",
      "288it [00:05, 53.61it/s]\n",
      "288it [00:05, 51.93it/s]\n",
      "288it [00:05, 54.33it/s]\n",
      "288it [00:05, 51.56it/s]\n",
      "288it [00:05, 52.48it/s]\n",
      "288it [00:05, 50.89it/s]\n",
      "288it [00:05, 51.51it/s]\n",
      "288it [00:05, 52.76it/s]\n",
      "288it [00:05, 52.55it/s]\n"
     ]
    }
   ],
   "source": [
    "weight_power_range = [2, 3, 4, 8, 16, 20, 25, 28, 32, 45, 55, 64]\n",
    "accuracy_all, precision_all, recall_all = [], [], []\n",
    "for weight_power in weight_power_range:\n",
    "    accuracy, precision, recall = apply(weight_power)\n",
    "    accuracy_all.append(accuracy)\n",
    "    precision_all.append(precision)\n",
    "    recall_all.append(recall)    "
   ]
  },
  {
   "cell_type": "code",
   "execution_count": 61,
   "metadata": {},
   "outputs": [],
   "source": [
    "import matplotlib.pyplot as plt\n",
    "%matplotlib inline"
   ]
  },
  {
   "cell_type": "code",
   "execution_count": 62,
   "metadata": {},
   "outputs": [
    {
     "data": {
      "image/png": "[encoded data removed]",
      "text/plain": [
       "<Figure size 720x288 with 1 Axes>"
      ]
     },
     "metadata": {
      "needs_background": "light"
     },
     "output_type": "display_data"
    },
    {
     "data": {
      "image/png": "[encoded data removed]",
      "text/plain": [
       "<Figure size 720x288 with 1 Axes>"
      ]
     },
     "metadata": {
      "needs_background": "light"
     },
     "output_type": "display_data"
    },
    {
     "data": {
      "image/png": "[encoded data removed]",
      "text/plain": [
       "<Figure size 720x288 with 1 Axes>"
      ]
     },
     "metadata": {
      "needs_background": "light"
     },
     "output_type": "display_data"
    }
   ],
   "source": [
    "metrics = (accuracy_all, precision_all, recall_all)\n",
    "names = (\"accuracy\", \"precision\", \"recall\")\n",
    "for name, metric in zip(names, metrics):\n",
    "    plt.figure(figsize=(10,4))\n",
    "    plt.grid(True)\n",
    "    plt.title(name)\n",
    "    plt.plot(weight_power_range, metric, '-o')\n",
    "    plt.show()"
   ]
  },
  {
   "cell_type": "markdown",
   "metadata": {},
   "source": [
    "При данной точности измерений, оптимальной точкой получиась weight_po"
   ]
  },
  {
   "cell_type": "code",
   "execution_count": null,
   "metadata": {
    "collapsed": true
   },
   "outputs": [],
   "source": [
    "accuracy, precision, recall = apply(5)"
   ]
  }
 ],
 "metadata": {
  "kernelspec": {
   "display_name": "Python 3",
   "language": "python",
   "name": "python3"
  },
  "language_info": {
   "codemirror_mode": {
    "name": "ipython",
    "version": 3
   },
   "file_extension": ".py",
   "mimetype": "text/x-python",
   "name": "python",
   "nbconvert_exporter": "python",
   "pygments_lexer": "ipython3",
   "version": "3.6.6"
  }
 },
 "nbformat": 4,
 "nbformat_minor": 2
}
